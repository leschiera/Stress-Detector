{
 "cells": [
  {
   "cell_type": "code",
   "execution_count": 1,
   "metadata": {},
   "outputs": [
    {
     "name": "stderr",
     "output_type": "stream",
     "text": [
      "C:\\Users\\Shend\\Anaconda3\\lib\\site-packages\\h5py\\__init__.py:36: FutureWarning: Conversion of the second argument of issubdtype from `float` to `np.floating` is deprecated. In future, it will be treated as `np.float64 == np.dtype(float).type`.\n",
      "  from ._conv import register_converters as _register_converters\n"
     ]
    }
   ],
   "source": [
    "import tensorflow as tf\n",
    "import pandas as pd\n",
    "import numpy as np\n",
    "import matplotlib.pyplot as plt\n",
    "from sklearn.preprocessing import OneHotEncoder "
   ]
  },
  {
   "cell_type": "markdown",
   "metadata": {},
   "source": [
    "The dataset that contains ECG and HR data."
   ]
  },
  {
   "cell_type": "code",
   "execution_count": 2,
   "metadata": {},
   "outputs": [],
   "source": [
    "dataframe_hrv= pd.read_csv('C:/Users/Shend/Desktop/dataframe_hrv.csv')\n",
    "dataframe_hrv = dataframe_hrv.reset_index(drop=True)"
   ]
  },
  {
   "cell_type": "markdown",
   "metadata": {},
   "source": [
    "Changing stress values to 1, if the value is 0.5 or higher.\n",
    "Changing stress values to 0, if the value is less than 0.5"
   ]
  },
  {
   "cell_type": "code",
   "execution_count": 3,
   "metadata": {},
   "outputs": [
    {
     "data": {
      "text/plain": [
       "array([0, 1], dtype=int64)"
      ]
     },
     "metadata": {},
     "output_type": "display_data"
    },
    {
     "data": {
      "text/html": [
       "<div>\n",
       "<style scoped>\n",
       "    .dataframe tbody tr th:only-of-type {\n",
       "        vertical-align: middle;\n",
       "    }\n",
       "\n",
       "    .dataframe tbody tr th {\n",
       "        vertical-align: top;\n",
       "    }\n",
       "\n",
       "    .dataframe thead th {\n",
       "        text-align: right;\n",
       "    }\n",
       "</style>\n",
       "<table border=\"1\" class=\"dataframe\">\n",
       "  <thead>\n",
       "    <tr style=\"text-align: right;\">\n",
       "      <th></th>\n",
       "      <th>ECG</th>\n",
       "      <th>EMG</th>\n",
       "      <th>HR</th>\n",
       "      <th>RESP</th>\n",
       "      <th>Seconds</th>\n",
       "      <th>footGSR</th>\n",
       "      <th>handGSR</th>\n",
       "      <th>interval in seconds</th>\n",
       "      <th>marker</th>\n",
       "      <th>newtime</th>\n",
       "      <th>...</th>\n",
       "      <th>AVNN</th>\n",
       "      <th>SDNN</th>\n",
       "      <th>RMSSD</th>\n",
       "      <th>pNN50</th>\n",
       "      <th>TP</th>\n",
       "      <th>ULF</th>\n",
       "      <th>VLF</th>\n",
       "      <th>LF</th>\n",
       "      <th>HF</th>\n",
       "      <th>LF_HF</th>\n",
       "    </tr>\n",
       "  </thead>\n",
       "  <tbody>\n",
       "    <tr>\n",
       "      <th>0</th>\n",
       "      <td>-0.001974</td>\n",
       "      <td>-0.004737</td>\n",
       "      <td>77.815789</td>\n",
       "      <td>10.801842</td>\n",
       "      <td>12.529684</td>\n",
       "      <td>2.417132</td>\n",
       "      <td>10.889447</td>\n",
       "      <td>0.614632</td>\n",
       "      <td>NaN</td>\n",
       "      <td>12.529684</td>\n",
       "      <td>...</td>\n",
       "      <td>0.617297</td>\n",
       "      <td>3.558630e-02</td>\n",
       "      <td>0.015203</td>\n",
       "      <td>0.055556</td>\n",
       "      <td>0.001238</td>\n",
       "      <td>0.0</td>\n",
       "      <td>0.000696</td>\n",
       "      <td>0.000407</td>\n",
       "      <td>0.000135</td>\n",
       "      <td>3.00200</td>\n",
       "    </tr>\n",
       "    <tr>\n",
       "      <th>1</th>\n",
       "      <td>0.002935</td>\n",
       "      <td>-0.004457</td>\n",
       "      <td>101.978261</td>\n",
       "      <td>10.750609</td>\n",
       "      <td>30.503500</td>\n",
       "      <td>2.417109</td>\n",
       "      <td>11.251065</td>\n",
       "      <td>0.647826</td>\n",
       "      <td>NaN</td>\n",
       "      <td>30.503500</td>\n",
       "      <td>...</td>\n",
       "      <td>0.647889</td>\n",
       "      <td>1.354660e-02</td>\n",
       "      <td>0.013858</td>\n",
       "      <td>0.045455</td>\n",
       "      <td>0.000144</td>\n",
       "      <td>0.0</td>\n",
       "      <td>0.000009</td>\n",
       "      <td>0.000060</td>\n",
       "      <td>0.000075</td>\n",
       "      <td>0.79371</td>\n",
       "    </tr>\n",
       "    <tr>\n",
       "      <th>2</th>\n",
       "      <td>0.006745</td>\n",
       "      <td>-0.003426</td>\n",
       "      <td>104.957447</td>\n",
       "      <td>10.557234</td>\n",
       "      <td>52.523021</td>\n",
       "      <td>2.226872</td>\n",
       "      <td>11.379638</td>\n",
       "      <td>0.646383</td>\n",
       "      <td>NaN</td>\n",
       "      <td>52.523021</td>\n",
       "      <td>...</td>\n",
       "      <td>0.645000</td>\n",
       "      <td>2.240000e-08</td>\n",
       "      <td>0.000000</td>\n",
       "      <td>0.000000</td>\n",
       "      <td>NaN</td>\n",
       "      <td>0.0</td>\n",
       "      <td>NaN</td>\n",
       "      <td>NaN</td>\n",
       "      <td>NaN</td>\n",
       "      <td>NaN</td>\n",
       "    </tr>\n",
       "    <tr>\n",
       "      <th>3</th>\n",
       "      <td>-0.004043</td>\n",
       "      <td>-0.002532</td>\n",
       "      <td>87.702128</td>\n",
       "      <td>10.640128</td>\n",
       "      <td>74.402170</td>\n",
       "      <td>2.173021</td>\n",
       "      <td>11.470830</td>\n",
       "      <td>0.645000</td>\n",
       "      <td>NaN</td>\n",
       "      <td>74.402170</td>\n",
       "      <td>...</td>\n",
       "      <td>0.645000</td>\n",
       "      <td>2.240000e-08</td>\n",
       "      <td>0.000000</td>\n",
       "      <td>0.000000</td>\n",
       "      <td>NaN</td>\n",
       "      <td>0.0</td>\n",
       "      <td>NaN</td>\n",
       "      <td>NaN</td>\n",
       "      <td>NaN</td>\n",
       "      <td>NaN</td>\n",
       "    </tr>\n",
       "    <tr>\n",
       "      <th>4</th>\n",
       "      <td>0.012745</td>\n",
       "      <td>-0.004426</td>\n",
       "      <td>88.829787</td>\n",
       "      <td>10.699319</td>\n",
       "      <td>96.219617</td>\n",
       "      <td>2.017106</td>\n",
       "      <td>11.135255</td>\n",
       "      <td>0.645000</td>\n",
       "      <td>NaN</td>\n",
       "      <td>96.219617</td>\n",
       "      <td>...</td>\n",
       "      <td>0.645000</td>\n",
       "      <td>2.240000e-08</td>\n",
       "      <td>0.000000</td>\n",
       "      <td>0.000000</td>\n",
       "      <td>NaN</td>\n",
       "      <td>0.0</td>\n",
       "      <td>NaN</td>\n",
       "      <td>NaN</td>\n",
       "      <td>NaN</td>\n",
       "      <td>NaN</td>\n",
       "    </tr>\n",
       "  </tbody>\n",
       "</table>\n",
       "<p>5 rows × 23 columns</p>\n",
       "</div>"
      ],
      "text/plain": [
       "        ECG       EMG          HR       RESP    Seconds   footGSR    handGSR  \\\n",
       "0 -0.001974 -0.004737   77.815789  10.801842  12.529684  2.417132  10.889447   \n",
       "1  0.002935 -0.004457  101.978261  10.750609  30.503500  2.417109  11.251065   \n",
       "2  0.006745 -0.003426  104.957447  10.557234  52.523021  2.226872  11.379638   \n",
       "3 -0.004043 -0.002532   87.702128  10.640128  74.402170  2.173021  11.470830   \n",
       "4  0.012745 -0.004426   88.829787  10.699319  96.219617  2.017106  11.135255   \n",
       "\n",
       "   interval in seconds  marker    newtime   ...         AVNN          SDNN  \\\n",
       "0             0.614632     NaN  12.529684   ...     0.617297  3.558630e-02   \n",
       "1             0.647826     NaN  30.503500   ...     0.647889  1.354660e-02   \n",
       "2             0.646383     NaN  52.523021   ...     0.645000  2.240000e-08   \n",
       "3             0.645000     NaN  74.402170   ...     0.645000  2.240000e-08   \n",
       "4             0.645000     NaN  96.219617   ...     0.645000  2.240000e-08   \n",
       "\n",
       "      RMSSD     pNN50        TP  ULF       VLF        LF        HF    LF_HF  \n",
       "0  0.015203  0.055556  0.001238  0.0  0.000696  0.000407  0.000135  3.00200  \n",
       "1  0.013858  0.045455  0.000144  0.0  0.000009  0.000060  0.000075  0.79371  \n",
       "2  0.000000  0.000000       NaN  0.0       NaN       NaN       NaN      NaN  \n",
       "3  0.000000  0.000000       NaN  0.0       NaN       NaN       NaN      NaN  \n",
       "4  0.000000  0.000000       NaN  0.0       NaN       NaN       NaN      NaN  \n",
       "\n",
       "[5 rows x 23 columns]"
      ]
     },
     "execution_count": 3,
     "metadata": {},
     "output_type": "execute_result"
    }
   ],
   "source": [
    "def fix_stress_labels(df='',label_column='stress'):\n",
    "    df['stress'] = np.where(df['stress']>=0.5, 1, 0)\n",
    "    display(df[\"stress\"].unique())\n",
    "    return df\n",
    "dataframe_hrv = fix_stress_labels(df=dataframe_hrv)\n",
    "dataframe_hrv.head(5)"
   ]
  },
  {
   "cell_type": "markdown",
   "metadata": {},
   "source": [
    "Extracting the values from the main dataframe and saving them to x and y.\n",
    "\n",
    "x contains the values of ECG and HR.\n",
    "\n",
    "y contains the values of Stress(0 or 1), meaning not stressed or stressed."
   ]
  },
  {
   "cell_type": "code",
   "execution_count": 4,
   "metadata": {},
   "outputs": [
    {
     "data": {
      "text/plain": [
       "array([-1.97368400e-03,  7.78157895e+01])"
      ]
     },
     "execution_count": 4,
     "metadata": {},
     "output_type": "execute_result"
    }
   ],
   "source": [
    "x = dataframe_hrv.iloc[:,[0,2]].values\n",
    "y = dataframe_hrv.iloc[:,[10]].values\n",
    "x[0]"
   ]
  },
  {
   "cell_type": "markdown",
   "metadata": {},
   "source": [
    "Now we HotEncode the data to work better with the algorithm. It transforms categorical features to a format that works better\n",
    "with classification and regression algorithms."
   ]
  },
  {
   "cell_type": "code",
   "execution_count": 5,
   "metadata": {},
   "outputs": [
    {
     "name": "stderr",
     "output_type": "stream",
     "text": [
      "C:\\Users\\Shend\\Anaconda3\\lib\\site-packages\\sklearn\\preprocessing\\_encoders.py:368: FutureWarning: The handling of integer data will change in version 0.22. Currently, the categories are determined based on the range [0, max(values)], while in the future they will be determined based on the unique values.\n",
      "If you want the future behaviour and silence this warning, you can specify \"categories='auto'\".\n",
      "In case you used a LabelEncoder before this OneHotEncoder to convert the categories to integers, then you can now use the OneHotEncoder directly.\n",
      "  warnings.warn(msg, FutureWarning)\n",
      "C:\\Users\\Shend\\Anaconda3\\lib\\site-packages\\sklearn\\preprocessing\\_encoders.py:368: FutureWarning: The handling of integer data will change in version 0.22. Currently, the categories are determined based on the range [0, max(values)], while in the future they will be determined based on the unique values.\n",
      "If you want the future behaviour and silence this warning, you can specify \"categories='auto'\".\n",
      "In case you used a LabelEncoder before this OneHotEncoder to convert the categories to integers, then you can now use the OneHotEncoder directly.\n",
      "  warnings.warn(msg, FutureWarning)\n"
     ]
    }
   ],
   "source": [
    "oneHot = OneHotEncoder()\n",
    "oneHot.fit(x)\n",
    "x_final = oneHot.transform(x).toarray()\n",
    "oneHot.fit(y)\n",
    "y_final = oneHot.transform(y).toarray()\n",
    "alpha, epochs = 0.0035, 500  #Learning rate, and the number of epochs\n",
    "m, n = x_final.shape"
   ]
  },
  {
   "cell_type": "markdown",
   "metadata": {},
   "source": [
    "We create the model , by defining placeholders X and Y so we can feed our training examples x and y into the optimizer during\n",
    "the training process.\n",
    "We also create W and b which will be optimized through gradient descent optimizer."
   ]
  },
  {
   "cell_type": "code",
   "execution_count": 6,
   "metadata": {},
   "outputs": [
    {
     "name": "stdout",
     "output_type": "stream",
     "text": [
      "WARNING:tensorflow:From C:\\Users\\Shend\\Anaconda3\\lib\\site-packages\\tensorflow\\python\\framework\\op_def_library.py:263: colocate_with (from tensorflow.python.framework.ops) is deprecated and will be removed in a future version.\n",
      "Instructions for updating:\n",
      "Colocations handled automatically by placer.\n"
     ]
    }
   ],
   "source": [
    "X = tf.placeholder(tf.float32, [None, n], name=\"X\")\n",
    "Y = tf.placeholder(tf.float32, [None, 2], name=\"Y\")\n",
    "\n",
    "W = tf.Variable(tf.zeros([n, 2]), name=\"W\")\n",
    "b = tf.Variable(tf.zeros([2]), name=\"b\")"
   ]
  },
  {
   "cell_type": "markdown",
   "metadata": {},
   "source": [
    "We delcare the Hypothesis, Cost function, Optimizer and Global Variables Initializer."
   ]
  },
  {
   "cell_type": "code",
   "execution_count": 7,
   "metadata": {},
   "outputs": [],
   "source": [
    "# Hypothesis \n",
    "Y_hat = tf.nn.sigmoid(tf.add(tf.matmul(X, W), b)) \n",
    "\n",
    "# Sigmoid Function \n",
    "cost = tf.nn.sigmoid_cross_entropy_with_logits(logits = Y_hat, labels = Y) \n",
    "\n",
    "# Gradient Descent Optimizer \n",
    "optimizer = tf.train.GradientDescentOptimizer(learning_rate = alpha).minimize(cost) \n",
    "\n",
    "# Global Variables Initializer \n",
    "init = tf.global_variables_initializer()"
   ]
  },
  {
   "cell_type": "markdown",
   "metadata": {},
   "source": [
    "Do the training process inside a tensorflow session.\n",
    "Also, save the model."
   ]
  },
  {
   "cell_type": "code",
   "execution_count": 8,
   "metadata": {},
   "outputs": [
    {
     "name": "stdout",
     "output_type": "stream",
     "text": [
      "Epoch 100 Cost: 5696.05224609375\n",
      "Epoch 200 Cost: 5675.92333984375\n",
      "Epoch 300 Cost: 5662.44091796875\n",
      "Epoch 400 Cost: 5653.22314453125\n",
      "\n",
      "Accuracy: 57.544201612472534 %\n",
      "WARNING:tensorflow:From <ipython-input-8-686b3f9df148>:29: simple_save (from tensorflow.python.saved_model.simple_save) is deprecated and will be removed in a future version.\n",
      "Instructions for updating:\n",
      "This function will only be available through the v1 compatibility library as tf.compat.v1.saved_model.simple_save.\n",
      "WARNING:tensorflow:From C:\\Users\\Shend\\Anaconda3\\lib\\site-packages\\tensorflow\\python\\saved_model\\signature_def_utils_impl.py:205: build_tensor_info (from tensorflow.python.saved_model.utils_impl) is deprecated and will be removed in a future version.\n",
      "Instructions for updating:\n",
      "This function will only be available through the v1 compatibility library as tf.compat.v1.saved_model.utils.build_tensor_info or tf.compat.v1.saved_model.build_tensor_info.\n"
     ]
    },
    {
     "ename": "AssertionError",
     "evalue": "Export directory already exists. Please specify a different export directory: C:/Users/Shend/my_save",
     "output_type": "error",
     "traceback": [
      "\u001b[1;31m---------------------------------------------------------------------------\u001b[0m",
      "\u001b[1;31mAssertionError\u001b[0m                            Traceback (most recent call last)",
      "\u001b[1;32m<ipython-input-8-686b3f9df148>\u001b[0m in \u001b[0;36m<module>\u001b[1;34m\u001b[0m\n\u001b[0;32m     27\u001b[0m     tf.saved_model.simple_save(sess,'C:/Users/Shend/my_save',\n\u001b[0;32m     28\u001b[0m                                \u001b[0minputs\u001b[0m\u001b[1;33m=\u001b[0m\u001b[1;33m{\u001b[0m\u001b[1;34m\"input\"\u001b[0m \u001b[1;33m:\u001b[0m \u001b[0mX\u001b[0m\u001b[1;33m}\u001b[0m\u001b[1;33m,\u001b[0m\u001b[1;33m\u001b[0m\u001b[1;33m\u001b[0m\u001b[0m\n\u001b[1;32m---> 29\u001b[1;33m                                outputs={\"predictor\": Y_hat})\n\u001b[0m",
      "\u001b[1;32m~\\Anaconda3\\lib\\site-packages\\tensorflow\\python\\util\\deprecation.py\u001b[0m in \u001b[0;36mnew_func\u001b[1;34m(*args, **kwargs)\u001b[0m\n\u001b[0;32m    322\u001b[0m               \u001b[1;34m'in a future version'\u001b[0m \u001b[1;32mif\u001b[0m \u001b[0mdate\u001b[0m \u001b[1;32mis\u001b[0m \u001b[1;32mNone\u001b[0m \u001b[1;32melse\u001b[0m \u001b[1;33m(\u001b[0m\u001b[1;34m'after %s'\u001b[0m \u001b[1;33m%\u001b[0m \u001b[0mdate\u001b[0m\u001b[1;33m)\u001b[0m\u001b[1;33m,\u001b[0m\u001b[1;33m\u001b[0m\u001b[1;33m\u001b[0m\u001b[0m\n\u001b[0;32m    323\u001b[0m               instructions)\n\u001b[1;32m--> 324\u001b[1;33m       \u001b[1;32mreturn\u001b[0m \u001b[0mfunc\u001b[0m\u001b[1;33m(\u001b[0m\u001b[1;33m*\u001b[0m\u001b[0margs\u001b[0m\u001b[1;33m,\u001b[0m \u001b[1;33m**\u001b[0m\u001b[0mkwargs\u001b[0m\u001b[1;33m)\u001b[0m\u001b[1;33m\u001b[0m\u001b[1;33m\u001b[0m\u001b[0m\n\u001b[0m\u001b[0;32m    325\u001b[0m     return tf_decorator.make_decorator(\n\u001b[0;32m    326\u001b[0m         \u001b[0mfunc\u001b[0m\u001b[1;33m,\u001b[0m \u001b[0mnew_func\u001b[0m\u001b[1;33m,\u001b[0m \u001b[1;34m'deprecated'\u001b[0m\u001b[1;33m,\u001b[0m\u001b[1;33m\u001b[0m\u001b[1;33m\u001b[0m\u001b[0m\n",
      "\u001b[1;32m~\\Anaconda3\\lib\\site-packages\\tensorflow\\python\\saved_model\\simple_save.py\u001b[0m in \u001b[0;36msimple_save\u001b[1;34m(session, export_dir, inputs, outputs, legacy_init_op)\u001b[0m\n\u001b[0;32m     81\u001b[0m           \u001b[0msignature_def_utils\u001b[0m\u001b[1;33m.\u001b[0m\u001b[0mpredict_signature_def\u001b[0m\u001b[1;33m(\u001b[0m\u001b[0minputs\u001b[0m\u001b[1;33m,\u001b[0m \u001b[0moutputs\u001b[0m\u001b[1;33m)\u001b[0m\u001b[1;33m\u001b[0m\u001b[1;33m\u001b[0m\u001b[0m\n\u001b[0;32m     82\u001b[0m   }\n\u001b[1;32m---> 83\u001b[1;33m   \u001b[0mb\u001b[0m \u001b[1;33m=\u001b[0m \u001b[0mbuilder\u001b[0m\u001b[1;33m.\u001b[0m\u001b[0mSavedModelBuilder\u001b[0m\u001b[1;33m(\u001b[0m\u001b[0mexport_dir\u001b[0m\u001b[1;33m)\u001b[0m\u001b[1;33m\u001b[0m\u001b[1;33m\u001b[0m\u001b[0m\n\u001b[0m\u001b[0;32m     84\u001b[0m   b.add_meta_graph_and_variables(\n\u001b[0;32m     85\u001b[0m       \u001b[0msession\u001b[0m\u001b[1;33m,\u001b[0m\u001b[1;33m\u001b[0m\u001b[1;33m\u001b[0m\u001b[0m\n",
      "\u001b[1;32m~\\Anaconda3\\lib\\site-packages\\tensorflow\\python\\saved_model\\builder_impl.py\u001b[0m in \u001b[0;36m__init__\u001b[1;34m(self, export_dir)\u001b[0m\n\u001b[0;32m    423\u001b[0m \u001b[1;33m\u001b[0m\u001b[0m\n\u001b[0;32m    424\u001b[0m   \u001b[1;32mdef\u001b[0m \u001b[0m__init__\u001b[0m\u001b[1;33m(\u001b[0m\u001b[0mself\u001b[0m\u001b[1;33m,\u001b[0m \u001b[0mexport_dir\u001b[0m\u001b[1;33m)\u001b[0m\u001b[1;33m:\u001b[0m\u001b[1;33m\u001b[0m\u001b[1;33m\u001b[0m\u001b[0m\n\u001b[1;32m--> 425\u001b[1;33m     \u001b[0msuper\u001b[0m\u001b[1;33m(\u001b[0m\u001b[0mSavedModelBuilder\u001b[0m\u001b[1;33m,\u001b[0m \u001b[0mself\u001b[0m\u001b[1;33m)\u001b[0m\u001b[1;33m.\u001b[0m\u001b[0m__init__\u001b[0m\u001b[1;33m(\u001b[0m\u001b[0mexport_dir\u001b[0m\u001b[1;33m=\u001b[0m\u001b[0mexport_dir\u001b[0m\u001b[1;33m)\u001b[0m\u001b[1;33m\u001b[0m\u001b[1;33m\u001b[0m\u001b[0m\n\u001b[0m\u001b[0;32m    426\u001b[0m \u001b[1;33m\u001b[0m\u001b[0m\n\u001b[0;32m    427\u001b[0m   \u001b[1;32mdef\u001b[0m \u001b[0m_add_collections\u001b[0m\u001b[1;33m(\u001b[0m\u001b[0mself\u001b[0m\u001b[1;33m,\u001b[0m \u001b[0massets_collection\u001b[0m\u001b[1;33m,\u001b[0m \u001b[0mmain_op\u001b[0m\u001b[1;33m,\u001b[0m \u001b[0mtrain_op\u001b[0m\u001b[1;33m)\u001b[0m\u001b[1;33m:\u001b[0m\u001b[1;33m\u001b[0m\u001b[1;33m\u001b[0m\u001b[0m\n",
      "\u001b[1;32m~\\Anaconda3\\lib\\site-packages\\tensorflow\\python\\saved_model\\builder_impl.py\u001b[0m in \u001b[0;36m__init__\u001b[1;34m(self, export_dir)\u001b[0m\n\u001b[0;32m     98\u001b[0m       raise AssertionError(\n\u001b[0;32m     99\u001b[0m           \u001b[1;34m\"Export directory already exists. Please specify a different export \"\u001b[0m\u001b[1;33m\u001b[0m\u001b[1;33m\u001b[0m\u001b[0m\n\u001b[1;32m--> 100\u001b[1;33m           \"directory: %s\" % export_dir)\n\u001b[0m\u001b[0;32m    101\u001b[0m \u001b[1;33m\u001b[0m\u001b[0m\n\u001b[0;32m    102\u001b[0m     \u001b[0mfile_io\u001b[0m\u001b[1;33m.\u001b[0m\u001b[0mrecursive_create_dir\u001b[0m\u001b[1;33m(\u001b[0m\u001b[0mself\u001b[0m\u001b[1;33m.\u001b[0m\u001b[0m_export_dir\u001b[0m\u001b[1;33m)\u001b[0m\u001b[1;33m\u001b[0m\u001b[1;33m\u001b[0m\u001b[0m\n",
      "\u001b[1;31mAssertionError\u001b[0m: Export directory already exists. Please specify a different export directory: C:/Users/Shend/my_save"
     ]
    }
   ],
   "source": [
    "with tf.Session() as sess:\n",
    "    sess.run(init)\n",
    "    cost_history, accuracy_history = [], [] # Lists for storing cost and accuracy for every epoch\n",
    "    for epoch in range(epochs):   # Iterating through epochs\n",
    "        cost_per_epoch = 0\n",
    "        sess.run(optimizer, feed_dict = {X: x_final, Y: y_final}) # Running the optimizer\n",
    "        c = sess.run(cost, feed_dict = {X: x_final, Y: y_final})  # Cost on current epoch\n",
    "        correct_prediction = tf.equal(tf.argmax(Y_hat, 1),        \n",
    "                                     tf.argmax(Y, 1))\n",
    "        accuracy = tf.reduce_mean(tf.cast(correct_prediction, tf.float32)) # Accuracy on current epoch\n",
    "        cost_history.append(sum(sum(c))) # Store the cost \n",
    "        accuracy_history.append(accuracy.eval({X: x_final, Y : y_final}) * 100) # Store the accuracy\n",
    "        \n",
    "        #Displaying the results on current Epoch\n",
    "        if epoch % 100 == 0 and epoch != 0:\n",
    "            print(\"Epoch \" + str(epoch) + \" Cost: \" + str(cost_history[-1]))\n",
    "        \n",
    "    Weight = sess.run(W) # Optimized Weight \n",
    "    Bias = sess.run(b)   # Optimized Bias \n",
    "      \n",
    "    # Final Accuracy \n",
    "    correct_prediction = tf.equal(tf.argmax(Y_hat, 1), \n",
    "                                      tf.argmax(Y, 1)) \n",
    "    accuracy = tf.reduce_mean(tf.cast(correct_prediction,  \n",
    "                                             tf.float32)) \n",
    "    print(\"\\nAccuracy:\", accuracy_history[-1], \"%\")\n",
    "    tf.saved_model.simple_save(sess,'C:/Users/Shend/my_save',\n",
    "                               inputs={\"input\" : X},\n",
    "                               outputs={\"predictor\": Y_hat})"
   ]
  },
  {
   "cell_type": "markdown",
   "metadata": {},
   "source": [
    "Convert the saved model to tflite format, which is needed for using it on mobile applications."
   ]
  },
  {
   "cell_type": "code",
   "execution_count": 14,
   "metadata": {},
   "outputs": [
    {
     "name": "stdout",
     "output_type": "stream",
     "text": [
      "WARNING:tensorflow:From C:\\Users\\Shend\\Anaconda3\\lib\\site-packages\\tensorflow\\lite\\python\\convert_saved_model.py:61: load (from tensorflow.python.saved_model.loader_impl) is deprecated and will be removed in a future version.\n",
      "Instructions for updating:\n",
      "This function will only be available through the v1 compatibility library as tf.compat.v1.saved_model.loader.load or tf.compat.v1.saved_model.load. There will be a new function for importing SavedModels in Tensorflow 2.0.\n",
      "WARNING:tensorflow:From C:\\Users\\Shend\\Anaconda3\\lib\\site-packages\\tensorflow\\python\\training\\saver.py:1266: checkpoint_exists (from tensorflow.python.training.checkpoint_management) is deprecated and will be removed in a future version.\n",
      "Instructions for updating:\n",
      "Use standard file APIs to check for files with this prefix.\n",
      "INFO:tensorflow:Restoring parameters from C:/Users/Shend/my_save\\variables\\variables\n",
      "INFO:tensorflow:The given SavedModel MetaGraphDef contains SignatureDefs with the following keys: {'serving_default'}\n",
      "INFO:tensorflow:input tensors info: \n",
      "INFO:tensorflow:Tensor's key in saved_model's tensor_map: input\n",
      "INFO:tensorflow: tensor name: X:0, shape: (-1, 124), type: DT_FLOAT\n",
      "INFO:tensorflow:output tensors info: \n",
      "INFO:tensorflow:Tensor's key in saved_model's tensor_map: predictor\n",
      "INFO:tensorflow: tensor name: Sigmoid_1:0, shape: (-1, 2), type: DT_FLOAT\n",
      "INFO:tensorflow:Restoring parameters from C:/Users/Shend/my_save\\variables\\variables\n",
      "WARNING:tensorflow:From C:\\Users\\Shend\\Anaconda3\\lib\\site-packages\\tensorflow\\lite\\python\\convert_saved_model.py:275: convert_variables_to_constants (from tensorflow.python.framework.graph_util_impl) is deprecated and will be removed in a future version.\n",
      "Instructions for updating:\n",
      "Use tf.compat.v1.graph_util.convert_variables_to_constants\n",
      "WARNING:tensorflow:From C:\\Users\\Shend\\Anaconda3\\lib\\site-packages\\tensorflow\\python\\framework\\graph_util_impl.py:245: extract_sub_graph (from tensorflow.python.framework.graph_util_impl) is deprecated and will be removed in a future version.\n",
      "Instructions for updating:\n",
      "Use tf.compat.v1.graph_util.extract_sub_graph\n",
      "INFO:tensorflow:Froze 2 variables.\n",
      "INFO:tensorflow:Converted 2 variables to const ops.\n"
     ]
    },
    {
     "data": {
      "text/plain": [
       "1716"
      ]
     },
     "execution_count": 14,
     "metadata": {},
     "output_type": "execute_result"
    }
   ],
   "source": [
    "converter = tf.lite.TFLiteConverter.from_saved_model(PATH)\n",
    "tflite_model = converter.convert()\n",
    "open(\"converted_model.tflite\", \"wb\").write(tflite_model)"
   ]
  }
 ],
 "metadata": {
  "kernelspec": {
   "display_name": "Python 3",
   "language": "python",
   "name": "python3"
  },
  "language_info": {
   "codemirror_mode": {
    "name": "ipython",
    "version": 3
   },
   "file_extension": ".py",
   "mimetype": "text/x-python",
   "name": "python",
   "nbconvert_exporter": "python",
   "pygments_lexer": "ipython3",
   "version": "3.6.7"
  }
 },
 "nbformat": 4,
 "nbformat_minor": 2
}
